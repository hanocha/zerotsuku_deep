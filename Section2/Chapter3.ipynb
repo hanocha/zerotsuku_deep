{
  "nbformat": 4,
  "nbformat_minor": 0,
  "metadata": {
    "colab": {
      "name": "Untitled0.ipynb",
      "version": "0.3.2",
      "provenance": [],
      "include_colab_link": true
    }
  },
  "cells": [
    {
      "cell_type": "markdown",
      "metadata": {
        "id": "view-in-github",
        "colab_type": "text"
      },
      "source": [
        "[View in Colaboratory](https://colab.research.google.com/github/hanocha/zerotsuku_deep/blob/master/Section2/Chapter3.ipynb)"
      ]
    },
    {
      "metadata": {
        "id": "-5Q0mxKj5EnQ",
        "colab_type": "code",
        "colab": {
          "base_uri": "https://localhost:8080/",
          "height": 85
        },
        "outputId": "7788729f-bed6-4f0a-f891-9286b2734f93"
      },
      "cell_type": "code",
      "source": [
        "import numpy\n",
        "\n",
        "def AND(x1, x2):\n",
        "  x = numpy.array([x1, x2])\n",
        "  w = numpy.array([0.5, 0.5])\n",
        "  b = -0.7\n",
        "  t = b + numpy.sum(x*w)\n",
        "  return 0 if t < 0 else 1\n",
        "\n",
        "print(AND(0, 0))\n",
        "print(AND(0, 1))\n",
        "print(AND(1, 0))\n",
        "print(AND(1, 1))"
      ],
      "execution_count": 6,
      "outputs": [
        {
          "output_type": "stream",
          "text": [
            "0\n",
            "0\n",
            "0\n",
            "1\n"
          ],
          "name": "stdout"
        }
      ]
    },
    {
      "metadata": {
        "id": "Sb5ESDNk8xiA",
        "colab_type": "code",
        "colab": {
          "base_uri": "https://localhost:8080/",
          "height": 85
        },
        "outputId": "7d1cd954-574b-4050-d94c-78d1863085e4"
      },
      "cell_type": "code",
      "source": [
        "def NAND(x1, x2):\n",
        "  x = numpy.array([x1, x2])\n",
        "  w = numpy.array([-0.5, -0.5])\n",
        "  b = 0.7\n",
        "  t = b + numpy.sum(x*w)\n",
        "  return 0 if t < 0 else 1\n",
        "\n",
        "print(NAND(0, 0))\n",
        "print(NAND(0, 1))\n",
        "print(NAND(1, 0))\n",
        "print(NAND(1, 1))"
      ],
      "execution_count": 8,
      "outputs": [
        {
          "output_type": "stream",
          "text": [
            "1\n",
            "1\n",
            "1\n",
            "0\n"
          ],
          "name": "stdout"
        }
      ]
    },
    {
      "metadata": {
        "id": "GP5atqNa9ghy",
        "colab_type": "code",
        "colab": {
          "base_uri": "https://localhost:8080/",
          "height": 85
        },
        "outputId": "fadd2c46-e3fd-4637-9700-ff1c38f9a782"
      },
      "cell_type": "code",
      "source": [
        "def OR(x1, x2):\n",
        "  x = numpy.array([x1, x2])\n",
        "  w = numpy.array([0.5, 0.5])\n",
        "  b = -0.3\n",
        "  t = b + numpy.sum(x*w)\n",
        "  return 0 if t < 0 else 1\n",
        "\n",
        "print(OR(0, 0))\n",
        "print(OR(0, 1))\n",
        "print(OR(1, 0))\n",
        "print(OR(1, 1))"
      ],
      "execution_count": 9,
      "outputs": [
        {
          "output_type": "stream",
          "text": [
            "0\n",
            "1\n",
            "1\n",
            "1\n"
          ],
          "name": "stdout"
        }
      ]
    },
    {
      "metadata": {
        "id": "hXX0jUoG91w5",
        "colab_type": "code",
        "colab": {
          "base_uri": "https://localhost:8080/",
          "height": 85
        },
        "outputId": "63c17954-b8df-4d22-bb9b-e74dd624ff18"
      },
      "cell_type": "code",
      "source": [
        "def XOR(x1, x2):\n",
        "  s1 = OR(x1, x2)\n",
        "  s2 = NAND(x1, x2)\n",
        "  return AND(s1, s2)\n",
        "\n",
        "print(XOR(0, 0))\n",
        "print(XOR(0, 1))\n",
        "print(XOR(1, 0))\n",
        "print(XOR(1, 1))"
      ],
      "execution_count": 10,
      "outputs": [
        {
          "output_type": "stream",
          "text": [
            "0\n",
            "1\n",
            "1\n",
            "0\n"
          ],
          "name": "stdout"
        }
      ]
    }
  ]
}