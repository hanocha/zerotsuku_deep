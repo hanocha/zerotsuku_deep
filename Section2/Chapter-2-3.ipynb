{
  "nbformat": 4,
  "nbformat_minor": 0,
  "metadata": {
    "colab": {
      "name": "Untitled0.ipynb",
      "version": "0.3.2",
      "provenance": [],
      "include_colab_link": true
    }
  },
  "cells": [
    {
      "cell_type": "markdown",
      "metadata": {
        "id": "view-in-github",
        "colab_type": "text"
      },
      "source": [
        "[View in Colaboratory](https://colab.research.google.com/github/hanocha/zerotsuku_deep/blob/master/Section2/Chapter-2-3.ipynb)"
      ]
    },
    {
      "metadata": {
        "id": "-5Q0mxKj5EnQ",
        "colab_type": "code",
        "colab": {
          "base_uri": "https://localhost:8080/",
          "height": 85
        },
        "outputId": "05f40ff5-ad54-414a-f0e4-5d910aa0ffb9"
      },
      "cell_type": "code",
      "source": [
        "def AND(x1, x2):\n",
        "  w1, w2 = 0.5, 0.5\n",
        "  b = -0.7\n",
        "  t = b + x1*w1 + x2*w2\n",
        "  return 0 if t < 0 else 1\n",
        "\n",
        "print(AND(0, 0))\n",
        "print(AND(0, 1))\n",
        "print(AND(1, 0))\n",
        "print(AND(1, 1))"
      ],
      "execution_count": 5,
      "outputs": [
        {
          "output_type": "stream",
          "text": [
            "0\n",
            "0\n",
            "0\n",
            "1\n"
          ],
          "name": "stdout"
        }
      ]
    }
  ]
}