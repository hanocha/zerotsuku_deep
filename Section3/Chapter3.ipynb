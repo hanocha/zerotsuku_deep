{
 "cells": [
  {
   "cell_type": "markdown",
   "metadata": {
    "colab_type": "text",
    "id": "fBf1Z88BMCol"
   },
   "source": [
    "# 行列計算\n",
    "\n",
    "## 行列の積"
   ]
  },
  {
   "cell_type": "code",
   "execution_count": 13,
   "metadata": {},
   "outputs": [
    {
     "name": "stdout",
     "output_type": "stream",
     "text": [
      "a * b\n",
      "[[ 2  6]\n",
      " [12 20]]\n",
      "np.dot(a, b)\n",
      "[[10 13]\n",
      " [22 29]]\n"
     ]
    }
   ],
   "source": [
    "import numpy as np\n",
    "\n",
    "a = np.array([\n",
    "    [1, 2],\n",
    "    [3, 4]\n",
    "])\n",
    "\n",
    "b = np.array([\n",
    "    [2, 3],\n",
    "    [4, 5]\n",
    "])\n",
    "\n",
    "print(\"a * b\")\n",
    "print(a * b) # 要素ごとの乗算\n",
    "\n",
    "print(\"np.dot(a, b)\")\n",
    "print(np.dot(a, b)) # 内積\n",
    "\n"
   ]
  },
  {
   "cell_type": "markdown",
   "metadata": {},
   "source": [
    "## NN の行列の積"
   ]
  },
  {
   "cell_type": "code",
   "execution_count": 11,
   "metadata": {},
   "outputs": [
    {
     "data": {
      "text/plain": [
       "array([ 5, 11, 17])"
      ]
     },
     "execution_count": 11,
     "metadata": {},
     "output_type": "execute_result"
    }
   ],
   "source": [
    "# 入力層行列\n",
    "x = np.array([1, 2])\n",
    "# 接続の重み\n",
    "w = np.array([[1, 3, 5], [2, 4, 6]])\n",
    "# 2層目への入力\n",
    "y = np.dot(x, w)\n",
    "\n",
    "y"
   ]
  }
 ],
 "metadata": {
  "kernelspec": {
   "display_name": "Python 3",
   "language": "python",
   "name": "python3"
  },
  "language_info": {
   "codemirror_mode": {
    "name": "ipython",
    "version": 3
   },
   "file_extension": ".py",
   "mimetype": "text/x-python",
   "name": "python",
   "nbconvert_exporter": "python",
   "pygments_lexer": "ipython3",
   "version": "3.6.5"
  }
 },
 "nbformat": 4,
 "nbformat_minor": 2
}
